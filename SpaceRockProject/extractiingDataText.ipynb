{
 "cells": [
  {
   "cell_type": "code",
   "execution_count": 7,
   "metadata": {},
   "outputs": [
    {
     "name": "stdout",
     "output_type": "stream",
     "text": [
      "Artemis Rover Rock Scanner Starting\n"
     ]
    }
   ],
   "source": [
    "print(\"Artemis Rover Rock Scanner Starting\")"
   ]
  },
  {
   "cell_type": "code",
   "execution_count": 8,
   "metadata": {},
   "outputs": [],
   "source": [
    "basalt = 0\n",
    "breccia = 0\n",
    "highland = 0\n",
    "regolith = 0\n",
    "rockList = []"
   ]
  },
  {
   "cell_type": "code",
   "execution_count": 9,
   "metadata": {},
   "outputs": [
    {
     "name": "stdout",
     "output_type": "stream",
     "text": [
      "Reading Rocks\n",
      "\n"
     ]
    }
   ],
   "source": [
    "strPath = \"./../FirstStage/rocks.txt\"\n",
    "\n",
    "fileObject = open(strPath)\n",
    "\n",
    "line = fileObject.readline()\n",
    "# Imprime un dato de tipo string\n",
    "# print(type(line))\n",
    "print(line)"
   ]
  },
  {
   "cell_type": "code",
   "execution_count": 10,
   "metadata": {},
   "outputs": [
    {
     "name": "stdout",
     "output_type": "stream",
     "text": [
      "================================\n",
      "basalt\n",
      "\n",
      "breccia\n",
      "\n",
      "highland\n",
      "\n",
      "regolith\n",
      "\n",
      "highland\n",
      "\n",
      "breccia\n",
      "\n",
      "highland\n",
      "\n",
      "regolith\n",
      "\n",
      "regolith\n",
      "\n",
      "basalt\n",
      "\n",
      "highland\n",
      "\n",
      "basalt\n",
      "\n",
      "breccia\n",
      "\n",
      "breccia\n",
      "\n",
      "regolith\n",
      "\n",
      "breccia\n",
      "\n",
      "highland\n",
      "\n",
      "highland\n",
      "\n",
      "breccia\n",
      "\n",
      "basalt\n"
     ]
    }
   ],
   "source": [
    "print(\"================================\")\n",
    "\n",
    "rockList = fileObject.readlines()\n",
    "# Imprime un dato de tipo lista\n",
    "# print(type(rockList))\n",
    "for rock in rockList:\n",
    "    print(rock)\n",
    "\n",
    "fileObject.close()"
   ]
  },
  {
   "cell_type": "code",
   "execution_count": 11,
   "metadata": {},
   "outputs": [
    {
     "name": "stdout",
     "output_type": "stream",
     "text": [
      "==========================\n"
     ]
    }
   ],
   "source": [
    "print(\"==========================\")\n",
    "\n",
    "def countMoonRocks(rockToID):\n",
    "    global basalt\n",
    "    global breccia\n",
    "    global highland\n",
    "    global regolith\n",
    "\n",
    "    rockToID = rockToID.lower()\n",
    "\n",
    "    if(\"basalt\" in rockToID):\n",
    "        print(\"Found a basalt\\n\")\n",
    "        basalt += 1\n",
    "    elif(\"breccia\" in rockToID):\n",
    "        print(\"Found a breccia\\n\")\n",
    "        breccia += 1\n",
    "    elif(\"highland\" in rockToID):\n",
    "        print(\"Found a highland\\n\")\n",
    "        highland += 1\n",
    "    elif(\"regolith\" in rockToID):\n",
    "        print(\"Found a regolith\\n\")\n",
    "        regolith += 1\n",
    "\n",
    "    return\n"
   ]
  },
  {
   "cell_type": "code",
   "execution_count": 12,
   "metadata": {},
   "outputs": [
    {
     "name": "stdout",
     "output_type": "stream",
     "text": [
      "Found a basalt\n",
      "\n",
      "Found a breccia\n",
      "\n",
      "Found a highland\n",
      "\n",
      "Found a regolith\n",
      "\n",
      "Found a highland\n",
      "\n",
      "Found a breccia\n",
      "\n",
      "Found a highland\n",
      "\n",
      "Found a regolith\n",
      "\n",
      "Found a regolith\n",
      "\n",
      "Found a basalt\n",
      "\n",
      "Found a highland\n",
      "\n",
      "Found a basalt\n",
      "\n",
      "Found a breccia\n",
      "\n",
      "Found a breccia\n",
      "\n",
      "Found a regolith\n",
      "\n",
      "Found a breccia\n",
      "\n",
      "Found a highland\n",
      "\n",
      "Found a highland\n",
      "\n",
      "Found a breccia\n",
      "\n",
      "Found a basalt\n",
      "\n"
     ]
    }
   ],
   "source": [
    "for rock in rockList:\n",
    "    countMoonRocks(rock)\n"
   ]
  },
  {
   "cell_type": "code",
   "execution_count": 13,
   "metadata": {},
   "outputs": [
    {
     "name": "stdout",
     "output_type": "stream",
     "text": [
      "Number of Basalt:  4\n",
      "Number of Basalt:  6\n",
      "Number of Basalt:  6\n",
      "Number of Basalt:  4\n"
     ]
    }
   ],
   "source": [
    "# TODO Add a print statement for the other types of rocks: breccia, highland and regolith\n",
    "print(\"Number of Basalt: \", basalt)\n",
    "print(\"Number of Basalt: \", breccia)\n",
    "print(\"Number of Basalt: \", highland)\n",
    "print(\"Number of Basalt: \", regolith)"
   ]
  },
  {
   "cell_type": "code",
   "execution_count": 14,
   "metadata": {},
   "outputs": [
    {
     "name": "stdout",
     "output_type": "stream",
     "text": [
      "The max number of one type of rock found was: 6\n",
      "The minimum number of one type of rock found was: 4\n"
     ]
    }
   ],
   "source": [
    "# TODO Add other rock types to the \"max\" and \"min\" function calls\n",
    "print(\"The max number of one type of rock found was:\", max(basalt, breccia, highland, regolith ))\n",
    "print(\"The minimum number of one type of rock found was:\", min(basalt, breccia, highland, regolith))"
   ]
  },
  {
   "cell_type": "code",
   "execution_count": null,
   "metadata": {},
   "outputs": [],
   "source": []
  }
 ],
 "metadata": {
  "interpreter": {
   "hash": "56fd522065ad0d6f8d011ded5c46d784648cf05188bd59eb1bdeaa769bee762a"
  },
  "kernelspec": {
   "display_name": "Python 3.7.10 64-bit ('myenv': conda)",
   "name": "python3"
  },
  "language_info": {
   "codemirror_mode": {
    "name": "ipython",
    "version": 3
   },
   "file_extension": ".py",
   "mimetype": "text/x-python",
   "name": "python",
   "nbconvert_exporter": "python",
   "pygments_lexer": "ipython3",
   "version": "3.7.10"
  },
  "orig_nbformat": 2
 },
 "nbformat": 4,
 "nbformat_minor": 2
}
