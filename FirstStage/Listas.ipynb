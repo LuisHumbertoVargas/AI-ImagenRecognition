{
 "metadata": {
  "language_info": {
   "codemirror_mode": {
    "name": "ipython",
    "version": 3
   },
   "file_extension": ".py",
   "mimetype": "text/x-python",
   "name": "python",
   "nbconvert_exporter": "python",
   "pygments_lexer": "ipython3",
   "version": "3.9.1-final"
  },
  "orig_nbformat": 2,
  "kernelspec": {
   "name": "python3",
   "display_name": "Python 3.9.1 64-bit",
   "metadata": {
    "interpreter": {
     "hash": "8a9efc75b18335c7a1f9833b180ebd89e6aa1464d59b494dea4bedc6c1387515"
    }
   }
  }
 },
 "nbformat": 4,
 "nbformat_minor": 2,
 "cells": [
  {
   "cell_type": "code",
   "execution_count": 1,
   "metadata": {},
   "outputs": [
    {
     "output_type": "stream",
     "name": "stdout",
     "text": [
      "First Astronaut on the moon\n\nNeil Armstrong\n"
     ]
    }
   ],
   "source": [
    "# Guardamos el nombre del archivo en una variable\n",
    "strPath = \"text.txt\"\n",
    "# Obtenemos y guardamos el archivo en una variable\n",
    "fileObject = open(strPath)\n",
    "# Leemos la variable para ver que nos devulve.\n",
    "# En este caso es una lista de cadenas que guardamos en textList\n",
    "textList = fileObject.readlines()\n",
    "# Cerramos el archivo abierto\n",
    "fileObject.close()\n",
    "# Imprimimos el contenido de la lista de caracteres obtenidos\n",
    "for line in textList:\n",
    "    print(line)"
   ]
  },
  {
   "cell_type": "code",
   "execution_count": null,
   "metadata": {},
   "outputs": [],
   "source": []
  }
 ]
}